{
 "cells": [
  {
   "cell_type": "markdown",
   "metadata": {},
   "source": [
    "# A simple UKF + CSS simulation\n",
    "\n",
    "In this notebook:\n",
    "* A 3U CubeSat with 6 Coarse Sun Sensor (CSS) rotating in with constant angular velocity around local and global coordinate systems\n",
    "* A Simulator to model the state-variables (position, Euler angles, velocity, and angular velocity) and sensor-observation (light intensity)\n",
    "\n",
    "_Here we use Homogeneous Coordinates and Unit Quaternions_"
   ]
  },
  {
   "cell_type": "code",
   "execution_count": 1,
   "metadata": {
    "collapsed": false
   },
   "outputs": [],
   "source": [
    "%matplotlib inline\n",
    "\n",
    "import numpy as np\n",
    "from src.unscented_kalman_filter import UKF\n",
    "\n",
    "import matplotlib.pyplot as plt\n",
    "import seaborn as sns \n",
    "\n",
    "from ipywidgets import interact, interactive, IntSlider, FloatSlider, fixed"
   ]
  }
 ],
 "metadata": {
  "kernelspec": {
   "display_name": "Python 2",
   "language": "python",
   "name": "python2"
  },
  "language_info": {
   "codemirror_mode": {
    "name": "ipython",
    "version": 2
   },
   "file_extension": ".py",
   "mimetype": "text/x-python",
   "name": "python",
   "nbconvert_exporter": "python",
   "pygments_lexer": "ipython2",
   "version": "2.7.12"
  }
 },
 "nbformat": 4,
 "nbformat_minor": 2
}
