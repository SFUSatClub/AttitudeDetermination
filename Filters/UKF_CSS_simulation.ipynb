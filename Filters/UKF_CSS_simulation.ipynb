{
 "cells": [
  {
   "cell_type": "markdown",
   "metadata": {
    "deletable": true,
    "editable": true
   },
   "source": [
    "# A simple UKF + CSS simulation\n",
    "\n",
    "In this notebook:\n",
    "* A 3U CubeSat with 6 Coarse Sun Sensor (CSS) rotating in with constant angular velocity around local and global coordinate systems\n",
    "* A Simulator to model the state-variables (position, Euler angles, velocity, and angular velocity) and sensor-observation (light intensity)\n",
    "\n",
    "_Here we use Homogeneous Coordinates and Unit Quaternions_"
   ]
  },
  {
   "cell_type": "code",
   "execution_count": 1,
   "metadata": {
    "collapsed": false,
    "deletable": true,
    "editable": true
   },
   "outputs": [],
   "source": [
    "%matplotlib inline\n",
    "\n",
    "import numpy as np\n",
    "from src.unscented_kalman_filter import UKF\n",
    "\n",
    "import matplotlib.pyplot as plt\n",
    "import seaborn as sns \n",
    "\n",
    "from ipywidgets import interact, interactive, IntSlider, FloatSlider, fixed"
   ]
  },
  {
   "cell_type": "markdown",
   "metadata": {
    "deletable": true,
    "editable": true
   },
   "source": [
    "## Helpers"
   ]
  },
  {
   "cell_type": "code",
   "execution_count": null,
   "metadata": {
    "collapsed": true,
    "deletable": true,
    "editable": true
   },
   "outputs": [],
   "source": [
    "class Simulator:\n",
    "    def __init__(x0, w, w_std):\n",
    "        '''\n",
    "        Inputs:\n",
    "        - x0: initial state\n",
    "        - w: angular velocity in local coordinate system of the satellite\n",
    "        - w_std: indicates the error in the angular velocity\n",
    "        '''\n",
    "        self.X = x0\n",
    "        self.w = w\n",
    "        self.w_std = w_std\n",
    "        \n",
    "    def step():\n",
    "        # TODO\n",
    "        pass"
   ]
  },
  {
   "cell_type": "code",
   "execution_count": null,
   "metadata": {
    "collapsed": true,
    "deletable": true,
    "editable": true
   },
   "outputs": [],
   "source": [
    "def h(sensors, light_source):\n",
    "    '''\n",
    "    Inputs:\n",
    "    - sensors: [[position, normal_vector]]\n",
    "    - light_source: position\n",
    "    '''\n",
    "    def f(state):\n",
    "        # TODO\n",
    "        pass\n",
    "    \n",
    "    return f"
   ]
  },
  {
   "cell_type": "code",
   "execution_count": null,
   "metadata": {
    "collapsed": true,
    "deletable": true,
    "editable": true
   },
   "outputs": [],
   "source": [
    "class Observation:\n",
    "    def __init__(sensors, light_source, std, forward_model):\n",
    "        '''\n",
    "        Inputs:\n",
    "        - sensors: [[position, normal_vector]]\n",
    "        - light_source: position\n",
    "        - std: indicates the error in the sensor observation\n",
    "        - forward_model: a function that maps from state-space to observation-space\n",
    "        '''\n",
    "        self.h = h(sensors, light_source)\n",
    "        self.std = std\n",
    "        \n",
    "    def measure(state):\n",
    "        z = self.h(state)\n",
    "        return z + np.random.randn(*z.shape) * self.std"
   ]
  }
 ],
 "metadata": {
  "kernelspec": {
   "display_name": "Python 2",
   "language": "python",
   "name": "python2"
  },
  "language_info": {
   "codemirror_mode": {
    "name": "ipython",
    "version": 2
   },
   "file_extension": ".py",
   "mimetype": "text/x-python",
   "name": "python",
   "nbconvert_exporter": "python",
   "pygments_lexer": "ipython2",
   "version": "2.7.12"
  }
 },
 "nbformat": 4,
 "nbformat_minor": 2
}
