{
 "cells": [
  {
   "cell_type": "markdown",
   "metadata": {
    "deletable": true,
    "editable": true
   },
   "source": [
    "# A simple UKF + CSS simulation\n",
    "\n",
    "In this notebook:\n",
    "* A 3U CubeSat with 6 Coarse Sun Sensor (CSS) rotating in with constant angular velocity around local and global coordinate systems\n",
    "* A Simulator to model the state-variables (position, attitude, velocity, and angular velocity) and sensor-observation (light intensity)\n",
    "\n",
    "_Here we use Homogeneous Coordinates and Unit Quaternions_"
   ]
  },
  {
   "cell_type": "code",
   "execution_count": null,
   "metadata": {
    "collapsed": false,
    "deletable": true,
    "editable": true
   },
   "outputs": [],
   "source": [
    "%matplotlib inline\n",
    "\n",
    "import numpy as np\n",
    "import transforms3d as tf\n",
    "from math import pi as PI\n",
    "from src.unscented_kalman_filter import UKF\n",
    "\n",
    "import matplotlib.pyplot as plt\n",
    "import seaborn as sns \n",
    "\n",
    "from ipywidgets import interact, interactive, IntSlider, FloatSlider, fixed"
   ]
  },
  {
   "cell_type": "markdown",
   "metadata": {
    "deletable": true,
    "editable": true
   },
   "source": [
    "## Helpers"
   ]
  },
  {
   "cell_type": "code",
   "execution_count": null,
   "metadata": {
    "collapsed": true,
    "deletable": true,
    "editable": true
   },
   "outputs": [],
   "source": [
    "def h(sensors, light_source):\n",
    "    '''\n",
    "    Inputs:\n",
    "    - sensors: A numpy array of shape [num_sensors, 3]\n",
    "    - light_source: A numpy array of shape [3]\n",
    "    '''\n",
    "    def f(state):\n",
    "        '''\n",
    "        Inputs:\n",
    "        - state: position (3), attitude (4), velocity (3), and angular-velocity (4)        \n",
    "        '''\n",
    "        \n",
    "        # map light_source's position from Homogeneous Coordinates to Cartesian Coordinate\n",
    "        p = light_source[:-1] / light_source[-1]\n",
    "        # a unit vector pointing to the light_source in local coordinates\n",
    "        u = p - state[:3]\n",
    "        u = u / np.linalg.norm(u)\n",
    "        # quaternion to rotation matrix\n",
    "        r = tf.quaternions.quat2mat(state[3:7])\n",
    "        # normal vector of sensors in local coordinates\n",
    "        n = np.dot(sensors, r.T)\n",
    "        # dot product between the normal vector to sensor and unit vector to the light_source\n",
    "        d = np.dot(n, u)\n",
    "        # reshold\n",
    "        d[d < 0] = 0\n",
    "        \n",
    "        return d\n",
    "    \n",
    "    return f"
   ]
  },
  {
   "cell_type": "code",
   "execution_count": null,
   "metadata": {
    "collapsed": true,
    "deletable": true,
    "editable": true
   },
   "outputs": [],
   "source": [
    "class Observation:\n",
    "    def __init__(self, sensors, light_source, std, h):\n",
    "        '''\n",
    "        Inputs:\n",
    "        - sensors: A numpy array of shape [num_sensors, 3]\n",
    "        - light_source: A numpy array of shape [3]\n",
    "        - std: indicates the error in the sensor observation\n",
    "        - h: a function that maps from state-space to observation-space\n",
    "        '''\n",
    "        self.h = h(sensors, light_source)\n",
    "        self.std = std\n",
    "        \n",
    "    def measure(self, state):\n",
    "        z = self.h(state)\n",
    "        return z + np.random.randn(*z.shape) * self.std"
   ]
  },
  {
   "cell_type": "code",
   "execution_count": null,
   "metadata": {
    "collapsed": true,
    "deletable": true,
    "editable": true
   },
   "outputs": [],
   "source": [
    "class Simulator:\n",
    "    def __init__(self, x0, w_std):\n",
    "        '''\n",
    "        Inputs:\n",
    "        - x0: initial state, [position (3), attitude (4), velocity (3), and angular-velocity (4)]\n",
    "        - w_std: indicates the error in the angular velocity\n",
    "        '''\n",
    "        self.X = x0\n",
    "        self.w_std = w_std\n",
    "        \n",
    "    def step(self):\n",
    "        # TODO\n",
    "        pass"
   ]
  },
  {
   "cell_type": "markdown",
   "metadata": {
    "deletable": true,
    "editable": true
   },
   "source": [
    "## Parameters"
   ]
  },
  {
   "cell_type": "code",
   "execution_count": null,
   "metadata": {
    "collapsed": false,
    "deletable": true,
    "editable": true
   },
   "outputs": [],
   "source": [
    "light_source = np.array([0, 0, 0, 1])\n",
    "x0 = np.array([\n",
    "    10, 10, 10, # x,y,z\n",
    "    1,0,0,0 # TODO\n",
    "])\n",
    "\n",
    "sensors = np.array([\n",
    "    [ 1, 0, 0], # +x\n",
    "    [-1, 0, 0], # -x\n",
    "    [0,  1, 0], # +y\n",
    "    [0, -1, 0], # -y\n",
    "    [0, 0,  1], # +z\n",
    "    [0, 0, -1], # -z\n",
    "])"
   ]
  },
  {
   "cell_type": "code",
   "execution_count": null,
   "metadata": {
    "collapsed": false,
    "deletable": true,
    "editable": true
   },
   "outputs": [],
   "source": [
    "dt, w_std, obs_std = 1e-1, 1e-3, 1e-2"
   ]
  },
  {
   "cell_type": "markdown",
   "metadata": {
    "deletable": true,
    "editable": true
   },
   "source": [
    "## Simulation"
   ]
  },
  {
   "cell_type": "code",
   "execution_count": null,
   "metadata": {
    "collapsed": false,
    "deletable": true,
    "editable": true
   },
   "outputs": [],
   "source": [
    "obs = Observation(sensors, light_source, obs_std, h)"
   ]
  }
 ],
 "metadata": {
  "kernelspec": {
   "display_name": "Python 2",
   "language": "python",
   "name": "python2"
  },
  "language_info": {
   "codemirror_mode": {
    "name": "ipython",
    "version": 2
   },
   "file_extension": ".py",
   "mimetype": "text/x-python",
   "name": "python",
   "nbconvert_exporter": "python",
   "pygments_lexer": "ipython2",
   "version": "2.7.12"
  }
 },
 "nbformat": 4,
 "nbformat_minor": 2
}
