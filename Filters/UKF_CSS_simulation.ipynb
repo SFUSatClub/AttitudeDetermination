{
 "cells": [
  {
   "cell_type": "markdown",
   "metadata": {
    "deletable": true,
    "editable": true
   },
   "source": [
    "# A simple UKF + CSS simulation\n",
    "\n",
    "In this notebook:\n",
    "* A 3U CubeSat with 6 Coarse Sun Sensor (CSS) rotating in with constant angular velocity around local and global coordinate systems\n",
    "* A Simulator to model the state-variables (position, attitude, velocity, and angular velocity) and sensor-observation (light intensity)\n",
    "\n",
    "_Here we use Homogeneous Coordinates and Unit Quaternions_"
   ]
  },
  {
   "cell_type": "code",
   "execution_count": 1,
   "metadata": {
    "collapsed": false,
    "deletable": true,
    "editable": true
   },
   "outputs": [],
   "source": [
    "%matplotlib inline\n",
    "\n",
    "import numpy as np\n",
    "import transforms3d as tf\n",
    "from math import pi as PI\n",
    "from src.unscented_kalman_filter import UKF\n",
    "\n",
    "import matplotlib.pyplot as plt\n",
    "import seaborn as sns \n",
    "\n",
    "from ipywidgets import interact, interactive, IntSlider, FloatSlider, fixed"
   ]
  },
  {
   "cell_type": "markdown",
   "metadata": {
    "deletable": true,
    "editable": true
   },
   "source": [
    "## Helpers"
   ]
  },
  {
   "cell_type": "code",
   "execution_count": 2,
   "metadata": {
    "collapsed": true,
    "deletable": true,
    "editable": true
   },
   "outputs": [],
   "source": [
    "def h(sensors, light_source):\n",
    "    '''\n",
    "    Inputs:\n",
    "    - sensors: A numpy array of shape [num_sensors, 3]\n",
    "    - light_source: A numpy array of shape [3]\n",
    "    '''\n",
    "    def f(state):\n",
    "        '''\n",
    "        Inputs:\n",
    "        - state: position (3), attitude (4), velocity (3), and angular-velocity (4)        \n",
    "        '''\n",
    "        \n",
    "        # map light_source's position from Homogeneous Coordinates to Cartesian Coordinate\n",
    "        p = light_source[:-1] / light_source[-1]\n",
    "        # a unit vector pointing to the light_source in local coordinates\n",
    "        u = p - state[:3]\n",
    "        u = u / np.linalg.norm(u)\n",
    "        # quaternion to rotation matrix\n",
    "        r = tf.quaternions.quat2mat(state[3:7])\n",
    "        # normal vector of sensors in local coordinates\n",
    "        n = np.dot(sensors, r.T)\n",
    "        # dot product between the normal vector to sensor and unit vector to the light_source\n",
    "        d = np.dot(n, u)\n",
    "        # reshold\n",
    "        d[d < 0] = 0\n",
    "        \n",
    "        return d\n",
    "    \n",
    "    return f"
   ]
  },
  {
   "cell_type": "code",
   "execution_count": 3,
   "metadata": {
    "collapsed": true,
    "deletable": true,
    "editable": true
   },
   "outputs": [],
   "source": [
    "class Observation:\n",
    "    def __init__(self, sensors, light_source, std, h):\n",
    "        '''\n",
    "        Inputs:\n",
    "        - sensors: A numpy array of shape [num_sensors, 3]\n",
    "        - light_source: A numpy array of shape [3]\n",
    "        - std: indicates the error in the sensor observation\n",
    "        - h: a function that maps from state-space to observation-space\n",
    "        '''\n",
    "        self.h = h(sensors, light_source)\n",
    "        self.std = std\n",
    "        \n",
    "    def measure(self, state):\n",
    "        z = self.h(state)\n",
    "        return z + np.random.randn(*z.shape) * self.std"
   ]
  },
  {
   "cell_type": "code",
   "execution_count": 4,
   "metadata": {
    "collapsed": true,
    "deletable": true,
    "editable": true
   },
   "outputs": [],
   "source": [
    "class Simulator:\n",
    "    def __init__(self, x0, w_std, obs):\n",
    "        '''\n",
    "        Inputs:\n",
    "        - x0: initial state, [position (3), attitude (4), velocity (3), and angular-velocity (4)]\n",
    "        - w_std: indicates the error in the angular velocity\n",
    "        - obs: observation model\n",
    "        '''\n",
    "        self.X = x0\n",
    "        self.w_std = w_std\n",
    "        self.obs = obs\n",
    "    def step(self):\n",
    "        pred = tf.quaternions.qmult(self.X[3:7], self.X[-4:])\n",
    "        err = self.X[3:7] = tf.quaternions.axangle2quat(\n",
    "            [np.random.randn() for _ in xrange(3)],\n",
    "            PI * np.random.randn() * self.w_std\n",
    "        )\n",
    "        self.X[3:7] = tf.quaternions.qmult(pred, err)\n",
    "        return np.copy(self.X), self.obs.measure(self.X)\n",
    "    def run(self, steps):\n",
    "        S, Z = [], []\n",
    "        for i_step in xrange(steps):\n",
    "            _s, _z = self.step()\n",
    "            S.append(_s)\n",
    "            Z.append(_z)\n",
    "            \n",
    "        return np.array(S), np.array(Z)"
   ]
  },
  {
   "cell_type": "markdown",
   "metadata": {
    "deletable": true,
    "editable": true
   },
   "source": [
    "## Test Models"
   ]
  },
  {
   "cell_type": "code",
   "execution_count": 5,
   "metadata": {
    "collapsed": false
   },
   "outputs": [
    {
     "data": {
      "text/plain": [
       "array([ 0.9961947 ,  0.        ,  0.        ,  0.08715574])"
      ]
     },
     "execution_count": 5,
     "metadata": {},
     "output_type": "execute_result"
    }
   ],
   "source": [
    "tf.quaternions.axangle2quat([0,0,1], PI/18) # angular velocity"
   ]
  },
  {
   "cell_type": "code",
   "execution_count": 6,
   "metadata": {
    "collapsed": false
   },
   "outputs": [
    {
     "data": {
      "text/plain": [
       "array([ 1.,  0.,  0.,  0.])"
      ]
     },
     "execution_count": 6,
     "metadata": {},
     "output_type": "execute_result"
    }
   ],
   "source": [
    "tf.quaternions.axangle2quat([1,1,1], 0) # angular orientation"
   ]
  },
  {
   "cell_type": "code",
   "execution_count": 7,
   "metadata": {
    "collapsed": false,
    "deletable": true,
    "editable": true
   },
   "outputs": [],
   "source": [
    "light_source = np.array([0, 0, 0, 1])\n",
    "x0 = np.array([\n",
    "    10., 10., 10., # position\n",
    "    1.,0.,0.,0., # angular orientation\n",
    "    0.,0.,0., # velocity\n",
    "    0.9961947,0.,0.,0.08715574 # angular velocity\n",
    "])\n",
    "\n",
    "sensors = np.array([\n",
    "    [ 1, 0, 0], # +x\n",
    "    [-1, 0, 0], # -x\n",
    "    [0,  1, 0], # +y\n",
    "    [0, -1, 0], # -y\n",
    "    [0, 0,  1], # +z\n",
    "    [0, 0, -1], # -z\n",
    "])\n",
    "\n",
    "w_std, obs_std = 1e-2, 1e-2"
   ]
  },
  {
   "cell_type": "code",
   "execution_count": 8,
   "metadata": {
    "collapsed": false,
    "deletable": true,
    "editable": true
   },
   "outputs": [],
   "source": [
    "obs = Observation(sensors, light_source, obs_std, h)\n",
    "sim = Simulator(x0, w_std, obs)\n",
    "S, Z = sim.run(9)"
   ]
  },
  {
   "cell_type": "code",
   "execution_count": 9,
   "metadata": {
    "collapsed": false
   },
   "outputs": [
    {
     "data": {
      "text/plain": [
       "(array([-0.0375501 ,  0.04811692,  0.99813564]), 1.545258457199283)"
      ]
     },
     "execution_count": 9,
     "metadata": {},
     "output_type": "execute_result"
    }
   ],
   "source": [
    "tf.quaternions.quat2axangle(S[-1][3:7])"
   ]
  }
 ],
 "metadata": {
  "kernelspec": {
   "display_name": "Python 2",
   "language": "python",
   "name": "python2"
  },
  "language_info": {
   "codemirror_mode": {
    "name": "ipython",
    "version": 2
   },
   "file_extension": ".py",
   "mimetype": "text/x-python",
   "name": "python",
   "nbconvert_exporter": "python",
   "pygments_lexer": "ipython2",
   "version": "2.7.12"
  }
 },
 "nbformat": 4,
 "nbformat_minor": 2
}
