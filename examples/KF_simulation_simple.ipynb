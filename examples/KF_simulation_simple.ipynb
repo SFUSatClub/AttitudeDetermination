{
 "cells": [
  {
   "cell_type": "code",
   "execution_count": null,
   "metadata": {
    "collapsed": false,
    "deletable": true,
    "editable": true
   },
   "outputs": [],
   "source": [
    "%matplotlib inline\n",
    "\n",
    "import numpy as np\n",
    "from ads.filters import KF\n",
    "\n",
    "import matplotlib.pyplot as plt\n",
    "import seaborn as sns \n",
    "\n",
    "from ipywidgets import interact, interactive, IntSlider, FloatSlider, fixed"
   ]
  },
  {
   "cell_type": "markdown",
   "metadata": {
    "deletable": true,
    "editable": true
   },
   "source": [
    "# Simulation"
   ]
  },
  {
   "cell_type": "code",
   "execution_count": null,
   "metadata": {
    "collapsed": true,
    "deletable": true,
    "editable": true
   },
   "outputs": [],
   "source": [
    "def initialize_filter(x0, x0_v, dx0, dx0_v, dt, a, a_v, z_v):\n",
    "    n, m, k = 2, 1, 1\n",
    "    kf = KF(n, m, k)\n",
    "    \n",
    "    x = np.array([[x0, dx0]]).T\n",
    "    f = np.array([[1, dt], [0, 1]])\n",
    "    u = np.array([[a]]).T\n",
    "    b = np.array([[(dt**2)/2.0, dt]]).T\n",
    "    p = np.array([[x0_v, 0], [0, dx0_v]])\n",
    "    q = np.array([[(dt**4)/4, (dt**3)/2], [(dt**3)/2, dt**2]]) * a_v\n",
    "    h = np.array([[1, 0]])\n",
    "    r = np.array([[z_v]])\n",
    "    \n",
    "    kf.initialize(_x=x, _F=f, _u=u, _B=b, _P=p, _Q=q, _H=h, _R=r)\n",
    "    \n",
    "    return kf"
   ]
  },
  {
   "cell_type": "code",
   "execution_count": null,
   "metadata": {
    "collapsed": true,
    "deletable": true,
    "editable": true
   },
   "outputs": [],
   "source": [
    "def propagate_in_time(x0, x0_v, dx0, dx0_v, dt, a, a_v, to):\n",
    "    error = lambda var: np.random.randn() * np.sqrt(var)\n",
    "    \n",
    "    x0 = x0 + error(x0_v)\n",
    "    pos, x, dx = [x0], x0, dx0 + error(dx0_v)\n",
    "    \n",
    "    for _ in range(to):\n",
    "        x += dx * dt\n",
    "        dx += (a + error(a_v)) * dt\n",
    "        pos.append(x)\n",
    "        \n",
    "    return np.array(pos)\n",
    "\n",
    "def make_observations(data, z_v):\n",
    "    return data + np.random.randn(*data.shape) * np.sqrt(z_v)"
   ]
  },
  {
   "cell_type": "code",
   "execution_count": null,
   "metadata": {
    "collapsed": true,
    "deletable": true,
    "editable": true
   },
   "outputs": [],
   "source": [
    "def simple_simulation(x0, x0_std, dx0, dx0_std, dt, a, a_std, z_std, to=100):\n",
    "    x0_v, dx0_v, a_v, z_v = map(lambda e: e**2, [x0_std, dx0_std, a_std, z_std])\n",
    "    kf = initialize_filter(x0, x0_v, dx0, dx0_v, dt, a, a_v, z_v)\n",
    "    data = propagate_in_time(x0, x0_v, dx0, dx0_v, dt, a, a_v, to)\n",
    "    observations = make_observations(data, z_v)\n",
    "    \n",
    "    res = []\n",
    "    for z in observations:\n",
    "        kf.predict()\n",
    "        kf.update(z)\n",
    "        res.append(kf.get_state())\n",
    "    res = np.array(res)\n",
    "    \n",
    "    plt.title('Kalman Filter')\n",
    "    plt.plot(data, 'b-')\n",
    "    plt.plot(observations, 'g^')\n",
    "    plt.plot(res[:, 0], 'r-')\n",
    "    plt.legend(['actual position', 'observations', 'filter result'])"
   ]
  },
  {
   "cell_type": "markdown",
   "metadata": {
    "deletable": true,
    "editable": true
   },
   "source": [
    "# Dynamic Visualization"
   ]
  },
  {
   "cell_type": "code",
   "execution_count": null,
   "metadata": {
    "collapsed": false,
    "deletable": true,
    "editable": true
   },
   "outputs": [],
   "source": [
    "interact(\n",
    "    simple_simulation,\n",
    "    x0 = fixed(0), x0_std=fixed(1), dt=fixed(1), to=fixed(100), a=fixed(0.01),\n",
    "    dx0 = FloatSlider(min=0,max=1,step=0.01,value=0.1), dx0_std=fixed(0.01),\n",
    "    a_std = FloatSlider(min=0,max=1,step=0.0001,value=0.01),\n",
    "    z_std = IntSlider(min=0,max=40,step=1,value=4)\n",
    ")"
   ]
  }
 ],
 "metadata": {
  "kernelspec": {
   "display_name": "Python 2",
   "language": "python",
   "name": "python2"
  },
  "language_info": {
   "codemirror_mode": {
    "name": "ipython",
    "version": 2
   },
   "file_extension": ".py",
   "mimetype": "text/x-python",
   "name": "python",
   "nbconvert_exporter": "python",
   "pygments_lexer": "ipython2",
   "version": "2.7.12"
  },
  "widgets": {
   "state": {
    "0ea3da2b9d1144e89fd928635baa60ed": {
     "views": [
      {
       "cell_index": 6
      }
     ]
    }
   },
   "version": "1.2.0"
  }
 },
 "nbformat": 4,
 "nbformat_minor": 1
}
